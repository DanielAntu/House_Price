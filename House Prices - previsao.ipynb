{
 "cells": [
  {
   "cell_type": "markdown",
   "id": "d6bf8684",
   "metadata": {},
   "source": [
    "# House Price\n",
    "\n",
    "Previsões de preços das casas\n",
    "\n",
    "https://www.kaggle.com/competitions/house-prices-advanced-regression-techniques"
   ]
  },
  {
   "cell_type": "code",
   "execution_count": 3,
   "id": "eae361ae",
   "metadata": {},
   "outputs": [],
   "source": [
    "import pandas as pd\n",
    "import numpy as np"
   ]
  },
  {
   "cell_type": "code",
   "execution_count": 4,
   "id": "155dfa06",
   "metadata": {},
   "outputs": [
    {
     "data": {
      "text/html": [
       "<div>\n",
       "<style scoped>\n",
       "    .dataframe tbody tr th:only-of-type {\n",
       "        vertical-align: middle;\n",
       "    }\n",
       "\n",
       "    .dataframe tbody tr th {\n",
       "        vertical-align: top;\n",
       "    }\n",
       "\n",
       "    .dataframe thead th {\n",
       "        text-align: right;\n",
       "    }\n",
       "</style>\n",
       "<table border=\"1\" class=\"dataframe\">\n",
       "  <thead>\n",
       "    <tr style=\"text-align: right;\">\n",
       "      <th></th>\n",
       "      <th>Id</th>\n",
       "      <th>MSSubClass</th>\n",
       "      <th>MSZoning</th>\n",
       "      <th>LotArea</th>\n",
       "      <th>Street</th>\n",
       "      <th>LotShape</th>\n",
       "      <th>LandContour</th>\n",
       "      <th>Utilities</th>\n",
       "      <th>LotConfig</th>\n",
       "      <th>LandSlope</th>\n",
       "      <th>...</th>\n",
       "      <th>EnclosedPorch</th>\n",
       "      <th>3SsnPorch</th>\n",
       "      <th>ScreenPorch</th>\n",
       "      <th>PoolArea</th>\n",
       "      <th>MiscVal</th>\n",
       "      <th>MoSold</th>\n",
       "      <th>YrSold</th>\n",
       "      <th>SaleType</th>\n",
       "      <th>SaleCondition</th>\n",
       "      <th>SalePrice</th>\n",
       "    </tr>\n",
       "  </thead>\n",
       "  <tbody>\n",
       "    <tr>\n",
       "      <th>0</th>\n",
       "      <td>1</td>\n",
       "      <td>60</td>\n",
       "      <td>RL</td>\n",
       "      <td>8450</td>\n",
       "      <td>Pave</td>\n",
       "      <td>Reg</td>\n",
       "      <td>Lvl</td>\n",
       "      <td>AllPub</td>\n",
       "      <td>Inside</td>\n",
       "      <td>Gtl</td>\n",
       "      <td>...</td>\n",
       "      <td>0</td>\n",
       "      <td>0</td>\n",
       "      <td>0</td>\n",
       "      <td>0</td>\n",
       "      <td>0</td>\n",
       "      <td>2</td>\n",
       "      <td>2008</td>\n",
       "      <td>WD</td>\n",
       "      <td>Normal</td>\n",
       "      <td>208500</td>\n",
       "    </tr>\n",
       "    <tr>\n",
       "      <th>1</th>\n",
       "      <td>2</td>\n",
       "      <td>20</td>\n",
       "      <td>RL</td>\n",
       "      <td>9600</td>\n",
       "      <td>Pave</td>\n",
       "      <td>Reg</td>\n",
       "      <td>Lvl</td>\n",
       "      <td>AllPub</td>\n",
       "      <td>FR2</td>\n",
       "      <td>Gtl</td>\n",
       "      <td>...</td>\n",
       "      <td>0</td>\n",
       "      <td>0</td>\n",
       "      <td>0</td>\n",
       "      <td>0</td>\n",
       "      <td>0</td>\n",
       "      <td>5</td>\n",
       "      <td>2007</td>\n",
       "      <td>WD</td>\n",
       "      <td>Normal</td>\n",
       "      <td>181500</td>\n",
       "    </tr>\n",
       "    <tr>\n",
       "      <th>2</th>\n",
       "      <td>3</td>\n",
       "      <td>60</td>\n",
       "      <td>RL</td>\n",
       "      <td>11250</td>\n",
       "      <td>Pave</td>\n",
       "      <td>IR1</td>\n",
       "      <td>Lvl</td>\n",
       "      <td>AllPub</td>\n",
       "      <td>Inside</td>\n",
       "      <td>Gtl</td>\n",
       "      <td>...</td>\n",
       "      <td>0</td>\n",
       "      <td>0</td>\n",
       "      <td>0</td>\n",
       "      <td>0</td>\n",
       "      <td>0</td>\n",
       "      <td>9</td>\n",
       "      <td>2008</td>\n",
       "      <td>WD</td>\n",
       "      <td>Normal</td>\n",
       "      <td>223500</td>\n",
       "    </tr>\n",
       "  </tbody>\n",
       "</table>\n",
       "<p>3 rows × 75 columns</p>\n",
       "</div>"
      ],
      "text/plain": [
       "   Id  MSSubClass MSZoning  LotArea Street LotShape LandContour Utilities  \\\n",
       "0   1          60       RL     8450   Pave      Reg         Lvl    AllPub   \n",
       "1   2          20       RL     9600   Pave      Reg         Lvl    AllPub   \n",
       "2   3          60       RL    11250   Pave      IR1         Lvl    AllPub   \n",
       "\n",
       "  LotConfig LandSlope  ... EnclosedPorch 3SsnPorch ScreenPorch PoolArea  \\\n",
       "0    Inside       Gtl  ...             0         0           0        0   \n",
       "1       FR2       Gtl  ...             0         0           0        0   \n",
       "2    Inside       Gtl  ...             0         0           0        0   \n",
       "\n",
       "  MiscVal  MoSold  YrSold  SaleType  SaleCondition SalePrice  \n",
       "0       0       2    2008        WD         Normal    208500  \n",
       "1       0       5    2007        WD         Normal    181500  \n",
       "2       0       9    2008        WD         Normal    223500  \n",
       "\n",
       "[3 rows x 75 columns]"
      ]
     },
     "execution_count": 4,
     "metadata": {},
     "output_type": "execute_result"
    }
   ],
   "source": [
    "tabela = pd.read_csv('train_tratado.csv')\n",
    "tabela.head(3)"
   ]
  },
  {
   "cell_type": "code",
   "execution_count": 5,
   "id": "5a6c4d60",
   "metadata": {},
   "outputs": [
    {
     "data": {
      "text/html": [
       "<div>\n",
       "<style scoped>\n",
       "    .dataframe tbody tr th:only-of-type {\n",
       "        vertical-align: middle;\n",
       "    }\n",
       "\n",
       "    .dataframe tbody tr th {\n",
       "        vertical-align: top;\n",
       "    }\n",
       "\n",
       "    .dataframe thead th {\n",
       "        text-align: right;\n",
       "    }\n",
       "</style>\n",
       "<table border=\"1\" class=\"dataframe\">\n",
       "  <thead>\n",
       "    <tr style=\"text-align: right;\">\n",
       "      <th></th>\n",
       "      <th>Id</th>\n",
       "      <th>MSSubClass</th>\n",
       "      <th>MSZoning</th>\n",
       "      <th>LotArea</th>\n",
       "      <th>Street</th>\n",
       "      <th>LotShape</th>\n",
       "      <th>LandContour</th>\n",
       "      <th>Utilities</th>\n",
       "      <th>LotConfig</th>\n",
       "      <th>LandSlope</th>\n",
       "      <th>...</th>\n",
       "      <th>OpenPorchSF</th>\n",
       "      <th>EnclosedPorch</th>\n",
       "      <th>3SsnPorch</th>\n",
       "      <th>ScreenPorch</th>\n",
       "      <th>PoolArea</th>\n",
       "      <th>MiscVal</th>\n",
       "      <th>MoSold</th>\n",
       "      <th>YrSold</th>\n",
       "      <th>SaleType</th>\n",
       "      <th>SaleCondition</th>\n",
       "    </tr>\n",
       "  </thead>\n",
       "  <tbody>\n",
       "    <tr>\n",
       "      <th>0</th>\n",
       "      <td>1461</td>\n",
       "      <td>20</td>\n",
       "      <td>RH</td>\n",
       "      <td>11622</td>\n",
       "      <td>Pave</td>\n",
       "      <td>Reg</td>\n",
       "      <td>Lvl</td>\n",
       "      <td>AllPub</td>\n",
       "      <td>Inside</td>\n",
       "      <td>Gtl</td>\n",
       "      <td>...</td>\n",
       "      <td>0</td>\n",
       "      <td>0</td>\n",
       "      <td>0</td>\n",
       "      <td>120</td>\n",
       "      <td>0</td>\n",
       "      <td>0</td>\n",
       "      <td>6</td>\n",
       "      <td>2010</td>\n",
       "      <td>WD</td>\n",
       "      <td>Normal</td>\n",
       "    </tr>\n",
       "    <tr>\n",
       "      <th>1</th>\n",
       "      <td>1462</td>\n",
       "      <td>20</td>\n",
       "      <td>RL</td>\n",
       "      <td>14267</td>\n",
       "      <td>Pave</td>\n",
       "      <td>IR1</td>\n",
       "      <td>Lvl</td>\n",
       "      <td>AllPub</td>\n",
       "      <td>Corner</td>\n",
       "      <td>Gtl</td>\n",
       "      <td>...</td>\n",
       "      <td>36</td>\n",
       "      <td>0</td>\n",
       "      <td>0</td>\n",
       "      <td>0</td>\n",
       "      <td>0</td>\n",
       "      <td>12500</td>\n",
       "      <td>6</td>\n",
       "      <td>2010</td>\n",
       "      <td>WD</td>\n",
       "      <td>Normal</td>\n",
       "    </tr>\n",
       "    <tr>\n",
       "      <th>2</th>\n",
       "      <td>1463</td>\n",
       "      <td>60</td>\n",
       "      <td>RL</td>\n",
       "      <td>13830</td>\n",
       "      <td>Pave</td>\n",
       "      <td>IR1</td>\n",
       "      <td>Lvl</td>\n",
       "      <td>AllPub</td>\n",
       "      <td>Inside</td>\n",
       "      <td>Gtl</td>\n",
       "      <td>...</td>\n",
       "      <td>34</td>\n",
       "      <td>0</td>\n",
       "      <td>0</td>\n",
       "      <td>0</td>\n",
       "      <td>0</td>\n",
       "      <td>0</td>\n",
       "      <td>3</td>\n",
       "      <td>2010</td>\n",
       "      <td>WD</td>\n",
       "      <td>Normal</td>\n",
       "    </tr>\n",
       "  </tbody>\n",
       "</table>\n",
       "<p>3 rows × 74 columns</p>\n",
       "</div>"
      ],
      "text/plain": [
       "     Id  MSSubClass MSZoning  LotArea Street LotShape LandContour Utilities  \\\n",
       "0  1461          20       RH    11622   Pave      Reg         Lvl    AllPub   \n",
       "1  1462          20       RL    14267   Pave      IR1         Lvl    AllPub   \n",
       "2  1463          60       RL    13830   Pave      IR1         Lvl    AllPub   \n",
       "\n",
       "  LotConfig LandSlope  ... OpenPorchSF EnclosedPorch 3SsnPorch ScreenPorch  \\\n",
       "0    Inside       Gtl  ...           0             0         0         120   \n",
       "1    Corner       Gtl  ...          36             0         0           0   \n",
       "2    Inside       Gtl  ...          34             0         0           0   \n",
       "\n",
       "  PoolArea  MiscVal  MoSold  YrSold  SaleType SaleCondition  \n",
       "0        0        0       6    2010        WD        Normal  \n",
       "1        0    12500       6    2010        WD        Normal  \n",
       "2        0        0       3    2010        WD        Normal  \n",
       "\n",
       "[3 rows x 74 columns]"
      ]
     },
     "execution_count": 5,
     "metadata": {},
     "output_type": "execute_result"
    }
   ],
   "source": [
    "test = pd.read_csv('test_tratado.csv')\n",
    "test.head(3)"
   ]
  },
  {
   "cell_type": "code",
   "execution_count": 6,
   "id": "693a78b7",
   "metadata": {},
   "outputs": [
    {
     "name": "stdout",
     "output_type": "stream",
     "text": [
      "<class 'pandas.core.frame.DataFrame'>\n",
      "RangeIndex: 1460 entries, 0 to 1459\n",
      "Data columns (total 75 columns):\n",
      " #   Column         Non-Null Count  Dtype  \n",
      "---  ------         --------------  -----  \n",
      " 0   Id             1460 non-null   int64  \n",
      " 1   MSSubClass     1460 non-null   int64  \n",
      " 2   MSZoning       1460 non-null   object \n",
      " 3   LotArea        1460 non-null   int64  \n",
      " 4   Street         1460 non-null   object \n",
      " 5   LotShape       1460 non-null   object \n",
      " 6   LandContour    1460 non-null   object \n",
      " 7   Utilities      1460 non-null   object \n",
      " 8   LotConfig      1460 non-null   object \n",
      " 9   LandSlope      1460 non-null   object \n",
      " 10  Neighborhood   1460 non-null   object \n",
      " 11  Condition1     1460 non-null   object \n",
      " 12  Condition2     1460 non-null   object \n",
      " 13  BldgType       1460 non-null   object \n",
      " 14  HouseStyle     1460 non-null   object \n",
      " 15  OverallQual    1460 non-null   int64  \n",
      " 16  OverallCond    1460 non-null   int64  \n",
      " 17  YearBuilt      1460 non-null   int64  \n",
      " 18  YearRemodAdd   1460 non-null   int64  \n",
      " 19  RoofStyle      1460 non-null   object \n",
      " 20  RoofMatl       1460 non-null   object \n",
      " 21  Exterior1st    1460 non-null   object \n",
      " 22  Exterior2nd    1460 non-null   object \n",
      " 23  MasVnrType     1460 non-null   object \n",
      " 24  MasVnrArea     1460 non-null   float64\n",
      " 25  ExterQual      1460 non-null   object \n",
      " 26  ExterCond      1460 non-null   object \n",
      " 27  Foundation     1460 non-null   object \n",
      " 28  BsmtQual       1460 non-null   object \n",
      " 29  BsmtCond       1460 non-null   object \n",
      " 30  BsmtExposure   1460 non-null   object \n",
      " 31  BsmtFinType1   1460 non-null   object \n",
      " 32  BsmtFinSF1     1460 non-null   int64  \n",
      " 33  BsmtFinType2   1460 non-null   object \n",
      " 34  BsmtFinSF2     1460 non-null   int64  \n",
      " 35  BsmtUnfSF      1460 non-null   int64  \n",
      " 36  TotalBsmtSF    1460 non-null   int64  \n",
      " 37  Heating        1460 non-null   object \n",
      " 38  HeatingQC      1460 non-null   object \n",
      " 39  CentralAir     1460 non-null   object \n",
      " 40  Electrical     1460 non-null   object \n",
      " 41  1stFlrSF       1460 non-null   int64  \n",
      " 42  2ndFlrSF       1460 non-null   int64  \n",
      " 43  LowQualFinSF   1460 non-null   int64  \n",
      " 44  GrLivArea      1460 non-null   int64  \n",
      " 45  BsmtFullBath   1460 non-null   int64  \n",
      " 46  BsmtHalfBath   1460 non-null   int64  \n",
      " 47  FullBath       1460 non-null   int64  \n",
      " 48  HalfBath       1460 non-null   int64  \n",
      " 49  BedroomAbvGr   1460 non-null   int64  \n",
      " 50  KitchenAbvGr   1460 non-null   int64  \n",
      " 51  KitchenQual    1460 non-null   object \n",
      " 52  TotRmsAbvGrd   1460 non-null   int64  \n",
      " 53  Functional     1460 non-null   object \n",
      " 54  Fireplaces     1460 non-null   int64  \n",
      " 55  GarageType     1460 non-null   object \n",
      " 56  GarageYrBlt    1460 non-null   float64\n",
      " 57  GarageFinish   1460 non-null   object \n",
      " 58  GarageCars     1460 non-null   int64  \n",
      " 59  GarageArea     1460 non-null   int64  \n",
      " 60  GarageQual     1460 non-null   object \n",
      " 61  GarageCond     1460 non-null   object \n",
      " 62  PavedDrive     1460 non-null   object \n",
      " 63  WoodDeckSF     1460 non-null   int64  \n",
      " 64  OpenPorchSF    1460 non-null   int64  \n",
      " 65  EnclosedPorch  1460 non-null   int64  \n",
      " 66  3SsnPorch      1460 non-null   int64  \n",
      " 67  ScreenPorch    1460 non-null   int64  \n",
      " 68  PoolArea       1460 non-null   int64  \n",
      " 69  MiscVal        1460 non-null   int64  \n",
      " 70  MoSold         1460 non-null   int64  \n",
      " 71  YrSold         1460 non-null   int64  \n",
      " 72  SaleType       1460 non-null   object \n",
      " 73  SaleCondition  1460 non-null   object \n",
      " 74  SalePrice      1460 non-null   int64  \n",
      "dtypes: float64(2), int64(35), object(38)\n",
      "memory usage: 855.6+ KB\n"
     ]
    }
   ],
   "source": [
    "tabela.info()"
   ]
  },
  {
   "cell_type": "code",
   "execution_count": 7,
   "id": "be43ce52",
   "metadata": {},
   "outputs": [
    {
     "name": "stdout",
     "output_type": "stream",
     "text": [
      "<class 'pandas.core.frame.DataFrame'>\n",
      "RangeIndex: 1459 entries, 0 to 1458\n",
      "Data columns (total 74 columns):\n",
      " #   Column         Non-Null Count  Dtype  \n",
      "---  ------         --------------  -----  \n",
      " 0   Id             1459 non-null   int64  \n",
      " 1   MSSubClass     1459 non-null   int64  \n",
      " 2   MSZoning       1459 non-null   object \n",
      " 3   LotArea        1459 non-null   int64  \n",
      " 4   Street         1459 non-null   object \n",
      " 5   LotShape       1459 non-null   object \n",
      " 6   LandContour    1459 non-null   object \n",
      " 7   Utilities      1459 non-null   object \n",
      " 8   LotConfig      1459 non-null   object \n",
      " 9   LandSlope      1459 non-null   object \n",
      " 10  Neighborhood   1459 non-null   object \n",
      " 11  Condition1     1459 non-null   object \n",
      " 12  Condition2     1459 non-null   object \n",
      " 13  BldgType       1459 non-null   object \n",
      " 14  HouseStyle     1459 non-null   object \n",
      " 15  OverallQual    1459 non-null   int64  \n",
      " 16  OverallCond    1459 non-null   int64  \n",
      " 17  YearBuilt      1459 non-null   int64  \n",
      " 18  YearRemodAdd   1459 non-null   int64  \n",
      " 19  RoofStyle      1459 non-null   object \n",
      " 20  RoofMatl       1459 non-null   object \n",
      " 21  Exterior1st    1459 non-null   object \n",
      " 22  Exterior2nd    1459 non-null   object \n",
      " 23  MasVnrType     1459 non-null   object \n",
      " 24  MasVnrArea     1459 non-null   float64\n",
      " 25  ExterQual      1459 non-null   object \n",
      " 26  ExterCond      1459 non-null   object \n",
      " 27  Foundation     1459 non-null   object \n",
      " 28  BsmtQual       1459 non-null   object \n",
      " 29  BsmtCond       1459 non-null   object \n",
      " 30  BsmtExposure   1459 non-null   object \n",
      " 31  BsmtFinType1   1459 non-null   object \n",
      " 32  BsmtFinSF1     1459 non-null   float64\n",
      " 33  BsmtFinType2   1459 non-null   object \n",
      " 34  BsmtFinSF2     1459 non-null   float64\n",
      " 35  BsmtUnfSF      1459 non-null   float64\n",
      " 36  TotalBsmtSF    1459 non-null   float64\n",
      " 37  Heating        1459 non-null   object \n",
      " 38  HeatingQC      1459 non-null   object \n",
      " 39  CentralAir     1459 non-null   object \n",
      " 40  Electrical     1459 non-null   object \n",
      " 41  1stFlrSF       1459 non-null   int64  \n",
      " 42  2ndFlrSF       1459 non-null   int64  \n",
      " 43  LowQualFinSF   1459 non-null   int64  \n",
      " 44  GrLivArea      1459 non-null   int64  \n",
      " 45  BsmtFullBath   1459 non-null   float64\n",
      " 46  BsmtHalfBath   1459 non-null   float64\n",
      " 47  FullBath       1459 non-null   int64  \n",
      " 48  HalfBath       1459 non-null   int64  \n",
      " 49  BedroomAbvGr   1459 non-null   int64  \n",
      " 50  KitchenAbvGr   1459 non-null   int64  \n",
      " 51  KitchenQual    1459 non-null   object \n",
      " 52  TotRmsAbvGrd   1459 non-null   int64  \n",
      " 53  Functional     1459 non-null   object \n",
      " 54  Fireplaces     1459 non-null   int64  \n",
      " 55  GarageType     1459 non-null   object \n",
      " 56  GarageYrBlt    1459 non-null   float64\n",
      " 57  GarageFinish   1459 non-null   object \n",
      " 58  GarageCars     1459 non-null   float64\n",
      " 59  GarageArea     1459 non-null   float64\n",
      " 60  GarageQual     1459 non-null   object \n",
      " 61  GarageCond     1459 non-null   object \n",
      " 62  PavedDrive     1459 non-null   object \n",
      " 63  WoodDeckSF     1459 non-null   int64  \n",
      " 64  OpenPorchSF    1459 non-null   int64  \n",
      " 65  EnclosedPorch  1459 non-null   int64  \n",
      " 66  3SsnPorch      1459 non-null   int64  \n",
      " 67  ScreenPorch    1459 non-null   int64  \n",
      " 68  PoolArea       1459 non-null   int64  \n",
      " 69  MiscVal        1459 non-null   int64  \n",
      " 70  MoSold         1459 non-null   int64  \n",
      " 71  YrSold         1459 non-null   int64  \n",
      " 72  SaleType       1459 non-null   object \n",
      " 73  SaleCondition  1459 non-null   object \n",
      "dtypes: float64(10), int64(26), object(38)\n",
      "memory usage: 843.6+ KB\n"
     ]
    }
   ],
   "source": [
    "test.info()"
   ]
  },
  {
   "cell_type": "code",
   "execution_count": 8,
   "id": "b1daebdc",
   "metadata": {},
   "outputs": [],
   "source": [
    "from sklearn.linear_model import LinearRegression\n",
    "from sklearn.neighbors import KNeighborsRegressor\n",
    "from sklearn.tree import DecisionTreeRegressor\n",
    "from sklearn.ensemble import RandomForestRegressor\n",
    "from sklearn.model_selection import train_test_split\n",
    "from sklearn.metrics import mean_absolute_error, mean_squared_error, r2_score"
   ]
  },
  {
   "cell_type": "code",
   "execution_count": 9,
   "id": "830b92f4",
   "metadata": {},
   "outputs": [],
   "source": [
    "def regressao_linear(tabela, jobs=None):\n",
    "    X = tabela.drop('SalePrice', axis=1)\n",
    "    y = tabela['SalePrice']\n",
    "    \n",
    "    X_train, X_test, y_train, y_test = train_test_split(X, y, test_size=0.30, random_state=42)\n",
    "    \n",
    "    reg = LinearRegression(n_jobs=jobs).fit(X_train, y_train)\n",
    "    \n",
    "    y_pred = reg.predict(X_test)\n",
    "    \n",
    "    print(mean_absolute_error(y_test, y_pred))\n",
    "    print('-'*60)\n",
    "    print(mean_squared_error(y_test, y_pred))\n",
    "    print('-'*60)\n",
    "    print(np.sqrt(mean_squared_error(y_test, y_pred)))\n",
    "    print('-'*60)\n",
    "    print(r2_score(y_test, y_pred))\n",
    "\n",
    "def arvore_decisao(tabela, max_dep=None, criterio='squared_error'):\n",
    "    X = tabela.drop('SalePrice', axis=1)\n",
    "    y = tabela['SalePrice']\n",
    "    \n",
    "    X_train, X_test, y_train, y_test = train_test_split(X, y, test_size=0.30, random_state=42)\n",
    "    \n",
    "    reg = DecisionTreeRegressor(max_depth=max_dep, criterion=criterio, random_state=42).fit(X_train, y_train)\n",
    "    \n",
    "    y_pred = reg.predict(X_test)\n",
    "    \n",
    "    print(mean_absolute_error(y_test, y_pred))\n",
    "    print('-'*60)\n",
    "    print(mean_squared_error(y_test, y_pred))\n",
    "    print('-'*60)\n",
    "    print(np.sqrt(mean_squared_error(y_test, y_pred)))\n",
    "    print('-'*60)\n",
    "    print(r2_score(y_test, y_pred))\n",
    "\n",
    "def knn(tabela, viz=2):\n",
    "    X = tabela.drop('SalePrice', axis=1)\n",
    "    y = tabela['SalePrice']\n",
    "    \n",
    "    X_train, X_test, y_train, y_test = train_test_split(X, y, test_size=0.30, random_state=42)\n",
    "    \n",
    "    reg = KNeighborsRegressor(n_neighbors=viz).fit(X_train, y_train)\n",
    "    \n",
    "    y_pred = reg.predict(X_test)\n",
    "    \n",
    "    print(mean_absolute_error(y_test, y_pred))\n",
    "    print('-'*60)\n",
    "    print(mean_squared_error(y_test, y_pred))\n",
    "    print('-'*60)\n",
    "    print(np.sqrt(mean_squared_error(y_test, y_pred)))\n",
    "    print('-'*60)\n",
    "    print(r2_score(y_test, y_pred))\n",
    "\n",
    "def floresta_aleatoria(tabela, max_dep=None, criterio='squared_error'):\n",
    "    X = tabela.drop('SalePrice', axis=1)\n",
    "    y = tabela['SalePrice']\n",
    "    \n",
    "    X_train, X_test, y_train, y_test = train_test_split(X, y, test_size=0.30, random_state=42)\n",
    "    \n",
    "    reg = RandomForestRegressor(max_depth=max_dep, criterion=criterio, random_state=42).fit(X_train, y_train)\n",
    "    \n",
    "    y_pred = reg.predict(X_test)\n",
    "    \n",
    "    print(mean_absolute_error(y_test, y_pred))\n",
    "    print('-'*60)\n",
    "    print(mean_squared_error(y_test, y_pred))\n",
    "    print('-'*60)\n",
    "    print(np.sqrt(mean_squared_error(y_test, y_pred)))\n",
    "    print('-'*60)\n",
    "    print(r2_score(y_test, y_pred))"
   ]
  },
  {
   "cell_type": "markdown",
   "id": "2a5a5a0b",
   "metadata": {},
   "source": [
    "## 1ª Fase"
   ]
  },
  {
   "cell_type": "code",
   "execution_count": 10,
   "id": "42137637",
   "metadata": {},
   "outputs": [],
   "source": [
    "coluna = tabela.columns[tabela.dtypes == 'object']"
   ]
  },
  {
   "cell_type": "code",
   "execution_count": 11,
   "id": "d0c3d03a",
   "metadata": {},
   "outputs": [],
   "source": [
    "tabela1 = tabela.drop(coluna, axis=1)"
   ]
  },
  {
   "cell_type": "code",
   "execution_count": 12,
   "id": "bacc9cbc",
   "metadata": {},
   "outputs": [
    {
     "name": "stdout",
     "output_type": "stream",
     "text": [
      "22764.026236544265\n",
      "------------------------------------------------------------\n",
      "1197736462.2396288\n",
      "------------------------------------------------------------\n",
      "34608.329376605696\n",
      "------------------------------------------------------------\n",
      "0.82835764274993\n"
     ]
    }
   ],
   "source": [
    "regressao_linear(tabela1)"
   ]
  },
  {
   "cell_type": "code",
   "execution_count": 13,
   "id": "0eb4a497",
   "metadata": {},
   "outputs": [
    {
     "name": "stdout",
     "output_type": "stream",
     "text": [
      "23999.69724795235\n",
      "------------------------------------------------------------\n",
      "1319529478.4415991\n",
      "------------------------------------------------------------\n",
      "36325.328332192665\n",
      "------------------------------------------------------------\n",
      "0.8109040199735035\n"
     ]
    }
   ],
   "source": [
    "arvore_decisao(tabela1, max_dep=8)"
   ]
  },
  {
   "cell_type": "code",
   "execution_count": 14,
   "id": "fa01e5cd",
   "metadata": {},
   "outputs": [
    {
     "name": "stdout",
     "output_type": "stream",
     "text": [
      "29633.374429223742\n",
      "------------------------------------------------------------\n",
      "2246278180.7211757\n",
      "------------------------------------------------------------\n",
      "47394.917245641176\n",
      "------------------------------------------------------------\n",
      "0.678095729625334\n"
     ]
    }
   ],
   "source": [
    "knn(tabela1, viz=4)"
   ]
  },
  {
   "cell_type": "code",
   "execution_count": 15,
   "id": "df9eed10",
   "metadata": {},
   "outputs": [
    {
     "name": "stdout",
     "output_type": "stream",
     "text": [
      "17162.302146118724\n",
      "------------------------------------------------------------\n",
      "722937407.4513348\n",
      "------------------------------------------------------------\n",
      "26887.495373339163\n",
      "------------------------------------------------------------\n",
      "0.8963990120771863\n"
     ]
    }
   ],
   "source": [
    "floresta_aleatoria(tabela1)"
   ]
  },
  {
   "cell_type": "code",
   "execution_count": 16,
   "id": "1c55b41a",
   "metadata": {},
   "outputs": [],
   "source": [
    "teste1 = test.drop(coluna, axis=1)"
   ]
  },
  {
   "cell_type": "code",
   "execution_count": 17,
   "id": "5e831337",
   "metadata": {},
   "outputs": [],
   "source": [
    "X = tabela1.drop('SalePrice', axis=1)\n",
    "y = tabela1['SalePrice']"
   ]
  },
  {
   "cell_type": "code",
   "execution_count": 18,
   "id": "a585b5db",
   "metadata": {},
   "outputs": [],
   "source": [
    "reg_fa = RandomForestRegressor().fit(X, y)"
   ]
  },
  {
   "cell_type": "code",
   "execution_count": 19,
   "id": "3066b850",
   "metadata": {},
   "outputs": [
    {
     "data": {
      "text/plain": [
       "array([128809.5 , 157180.45, 181833.4 , ..., 159247.5 , 109481.  ,\n",
       "       232728.51])"
      ]
     },
     "execution_count": 19,
     "metadata": {},
     "output_type": "execute_result"
    }
   ],
   "source": [
    "y_pred = reg_fa.predict(teste1)\n",
    "y_pred"
   ]
  },
  {
   "cell_type": "code",
   "execution_count": 20,
   "id": "51f1e927",
   "metadata": {
    "scrolled": true
   },
   "outputs": [],
   "source": [
    "id_test = test[['Id']]"
   ]
  },
  {
   "cell_type": "code",
   "execution_count": 21,
   "id": "988d4d26",
   "metadata": {},
   "outputs": [
    {
     "data": {
      "text/html": [
       "<div>\n",
       "<style scoped>\n",
       "    .dataframe tbody tr th:only-of-type {\n",
       "        vertical-align: middle;\n",
       "    }\n",
       "\n",
       "    .dataframe tbody tr th {\n",
       "        vertical-align: top;\n",
       "    }\n",
       "\n",
       "    .dataframe thead th {\n",
       "        text-align: right;\n",
       "    }\n",
       "</style>\n",
       "<table border=\"1\" class=\"dataframe\">\n",
       "  <thead>\n",
       "    <tr style=\"text-align: right;\">\n",
       "      <th></th>\n",
       "      <th>SalePrice</th>\n",
       "    </tr>\n",
       "  </thead>\n",
       "  <tbody>\n",
       "    <tr>\n",
       "      <th>0</th>\n",
       "      <td>128809.50</td>\n",
       "    </tr>\n",
       "    <tr>\n",
       "      <th>1</th>\n",
       "      <td>157180.45</td>\n",
       "    </tr>\n",
       "    <tr>\n",
       "      <th>2</th>\n",
       "      <td>181833.40</td>\n",
       "    </tr>\n",
       "  </tbody>\n",
       "</table>\n",
       "</div>"
      ],
      "text/plain": [
       "   SalePrice\n",
       "0  128809.50\n",
       "1  157180.45\n",
       "2  181833.40"
      ]
     },
     "execution_count": 21,
     "metadata": {},
     "output_type": "execute_result"
    }
   ],
   "source": [
    "previsoes = pd.DataFrame(y_pred, columns=['SalePrice'])\n",
    "previsoes.head(3)"
   ]
  },
  {
   "cell_type": "code",
   "execution_count": 22,
   "id": "bc9fcdec",
   "metadata": {},
   "outputs": [],
   "source": [
    "resultado1 = pd.concat([id_test, previsoes], axis=1)"
   ]
  },
  {
   "cell_type": "code",
   "execution_count": 23,
   "id": "d1f7e409",
   "metadata": {},
   "outputs": [],
   "source": [
    "resultado1.to_csv('resultado1.csv', index=False)"
   ]
  },
  {
   "cell_type": "markdown",
   "id": "9bbb8014",
   "metadata": {},
   "source": [
    "# 2ª Fase"
   ]
  },
  {
   "cell_type": "code",
   "execution_count": 35,
   "id": "771a27ef",
   "metadata": {},
   "outputs": [],
   "source": [
    "lista_atrib = ['SalePrice', 'MSSubClass', 'OverallCond', 'LotArea', 'OverallQual', 'MasVnrArea', 'BsmtFinSF1', 'BsmtFinSF2', 'BsmtUnfSF',\n",
    "               '1stFlrSF', '2ndFlrSF', 'LowQualFinSF', 'BsmtFullBath', 'BsmtHalfBath', 'HalfBath', 'BedroomAbvGr',\n",
    "               'KitchenAbvGr', 'TotRmsAbvGrd', 'Fireplaces', 'WoodDeckSF',\n",
    "               'OpenPorchSF', 'EnclosedPorch', '3SsnPorch', 'ScreenPorch', 'PoolArea', 'MiscVal', 'MoSold', 'YrSold']"
   ]
  },
  {
   "cell_type": "code",
   "execution_count": 36,
   "id": "9fbc941d",
   "metadata": {},
   "outputs": [],
   "source": [
    "tabela2 = tabela[lista_atrib]"
   ]
  },
  {
   "cell_type": "code",
   "execution_count": 42,
   "id": "e7e1ab76",
   "metadata": {},
   "outputs": [
    {
     "name": "stdout",
     "output_type": "stream",
     "text": [
      "23211.928209807145\n",
      "------------------------------------------------------------\n",
      "1270601058.6433706\n",
      "------------------------------------------------------------\n",
      "35645.49142098297\n",
      "------------------------------------------------------------\n",
      "0.8179157371378831\n"
     ]
    }
   ],
   "source": [
    "regressao_linear(tabela2)"
   ]
  },
  {
   "cell_type": "code",
   "execution_count": 67,
   "id": "d860d336",
   "metadata": {},
   "outputs": [
    {
     "name": "stdout",
     "output_type": "stream",
     "text": [
      "26313.714565046474\n",
      "------------------------------------------------------------\n",
      "1470684459.81065\n",
      "------------------------------------------------------------\n",
      "38349.50403604524\n",
      "------------------------------------------------------------\n",
      "0.7892426627966826\n"
     ]
    }
   ],
   "source": [
    "arvore_decisao(tabela2, max_dep=6)"
   ]
  },
  {
   "cell_type": "code",
   "execution_count": 80,
   "id": "660c0162",
   "metadata": {},
   "outputs": [
    {
     "name": "stdout",
     "output_type": "stream",
     "text": [
      "33423.06107305936\n",
      "------------------------------------------------------------\n",
      "2763850153.986159\n",
      "------------------------------------------------------------\n",
      "52572.33259030989\n",
      "------------------------------------------------------------\n",
      "0.6039247610203904\n"
     ]
    }
   ],
   "source": [
    "knn(tabela2, viz=4)"
   ]
  },
  {
   "cell_type": "code",
   "execution_count": 92,
   "id": "91fda677",
   "metadata": {},
   "outputs": [
    {
     "name": "stdout",
     "output_type": "stream",
     "text": [
      "19562.46202435312\n",
      "------------------------------------------------------------\n",
      "907263230.336275\n",
      "------------------------------------------------------------\n",
      "30120.81058564452\n",
      "------------------------------------------------------------\n",
      "0.869984087142138\n"
     ]
    }
   ],
   "source": [
    "floresta_aleatoria(tabela2)"
   ]
  },
  {
   "cell_type": "markdown",
   "id": "91ecbafe",
   "metadata": {},
   "source": [
    "## 3º Fase"
   ]
  },
  {
   "cell_type": "code",
   "execution_count": 101,
   "id": "2b736bb4",
   "metadata": {},
   "outputs": [],
   "source": [
    "list_atrib = ['SalePrice', 'MasVnrArea', 'KitchenAbvGr', 'EnclosedPorch', 'YrSold']"
   ]
  },
  {
   "cell_type": "code",
   "execution_count": 102,
   "id": "9fdc2a2d",
   "metadata": {},
   "outputs": [],
   "source": [
    "tabela3 = tabela[list_atrib]"
   ]
  },
  {
   "cell_type": "code",
   "execution_count": 110,
   "id": "e29918f2",
   "metadata": {},
   "outputs": [
    {
     "name": "stdout",
     "output_type": "stream",
     "text": [
      "51674.70401286798\n",
      "------------------------------------------------------------\n",
      "5094734446.875385\n",
      "------------------------------------------------------------\n",
      "71377.40851891013\n",
      "------------------------------------------------------------\n",
      "0.2698959599262256\n"
     ]
    }
   ],
   "source": [
    "regressao_linear(tabela3)"
   ]
  },
  {
   "cell_type": "code",
   "execution_count": 127,
   "id": "55a2d3a5",
   "metadata": {},
   "outputs": [
    {
     "name": "stdout",
     "output_type": "stream",
     "text": [
      "52445.04317655197\n",
      "------------------------------------------------------------\n",
      "5184832420.090017\n",
      "------------------------------------------------------------\n",
      "72005.78046302962\n",
      "------------------------------------------------------------\n",
      "0.2569844146960705\n"
     ]
    }
   ],
   "source": [
    "arvore_decisao(tabela3, max_dep=2)"
   ]
  },
  {
   "cell_type": "code",
   "execution_count": 151,
   "id": "10e37903",
   "metadata": {},
   "outputs": [
    {
     "name": "stdout",
     "output_type": "stream",
     "text": [
      "53281.43436073059\n",
      "------------------------------------------------------------\n",
      "5490353807.178706\n",
      "------------------------------------------------------------\n",
      "74096.92171189506\n",
      "------------------------------------------------------------\n",
      "0.21320148520909787\n"
     ]
    }
   ],
   "source": [
    "knn(tabela3, viz=16)"
   ]
  },
  {
   "cell_type": "code",
   "execution_count": 160,
   "id": "1be01b5c",
   "metadata": {},
   "outputs": [
    {
     "name": "stdout",
     "output_type": "stream",
     "text": [
      "50440.989230379986\n",
      "------------------------------------------------------------\n",
      "5003541248.863165\n",
      "------------------------------------------------------------\n",
      "70735.71409735795\n",
      "------------------------------------------------------------\n",
      "0.282964457016747\n"
     ]
    }
   ],
   "source": [
    "floresta_aleatoria(tabela3, max_dep=5)"
   ]
  },
  {
   "cell_type": "markdown",
   "id": "3fe5995e",
   "metadata": {},
   "source": [
    "## 4ª Fase"
   ]
  },
  {
   "cell_type": "code",
   "execution_count": 161,
   "id": "b42b329f",
   "metadata": {},
   "outputs": [],
   "source": [
    "lista_atrib = ['SalePrice', 'OverallQual', '1stFlrSF', 'Fireplaces', 'YearBuilt', 'YearRemodAdd', 'TotalBsmtSF',\n",
    "                'FullBath', 'GrLivArea', 'TotRmsAbvGrd', 'GarageYrBlt', 'GarageCars', 'GarageArea']"
   ]
  },
  {
   "cell_type": "code",
   "execution_count": 163,
   "id": "4e29f933",
   "metadata": {},
   "outputs": [],
   "source": [
    "tabela4 = tabela[lista_atrib]"
   ]
  },
  {
   "cell_type": "code",
   "execution_count": 172,
   "id": "681dbe56",
   "metadata": {},
   "outputs": [
    {
     "name": "stdout",
     "output_type": "stream",
     "text": [
      "24529.147341753396\n",
      "------------------------------------------------------------\n",
      "1357191632.3753881\n",
      "------------------------------------------------------------\n",
      "36840.08187253916\n",
      "------------------------------------------------------------\n",
      "0.8055068219386179\n"
     ]
    }
   ],
   "source": [
    "regressao_linear(tabela4)"
   ]
  },
  {
   "cell_type": "code",
   "execution_count": 188,
   "id": "6e0ad7a6",
   "metadata": {},
   "outputs": [
    {
     "name": "stdout",
     "output_type": "stream",
     "text": [
      "23380.431506849316\n",
      "------------------------------------------------------------\n",
      "1151094086.3687215\n",
      "------------------------------------------------------------\n",
      "33927.77750411485\n",
      "------------------------------------------------------------\n",
      "0.8350417569892647\n"
     ]
    }
   ],
   "source": [
    "arvore_decisao(tabela4, max_dep=8, criterio='absolute_error')"
   ]
  },
  {
   "cell_type": "code",
   "execution_count": 207,
   "id": "399dd104",
   "metadata": {},
   "outputs": [
    {
     "name": "stdout",
     "output_type": "stream",
     "text": [
      "23550.503196347032\n",
      "------------------------------------------------------------\n",
      "1455848101.2562556\n",
      "------------------------------------------------------------\n",
      "38155.57759038979\n",
      "------------------------------------------------------------\n",
      "0.7913687962455398\n"
     ]
    }
   ],
   "source": [
    "knn(tabela4, viz=5)"
   ]
  },
  {
   "cell_type": "code",
   "execution_count": 227,
   "id": "1de120b4",
   "metadata": {},
   "outputs": [
    {
     "name": "stdout",
     "output_type": "stream",
     "text": [
      "18021.194041095892\n",
      "------------------------------------------------------------\n",
      "743470895.1815499\n",
      "------------------------------------------------------------\n",
      "27266.66270707785\n",
      "------------------------------------------------------------\n",
      "0.8934564480426997\n"
     ]
    }
   ],
   "source": [
    "floresta_aleatoria(tabela4, criterio='absolute_error')"
   ]
  },
  {
   "cell_type": "code",
   "execution_count": 230,
   "id": "40d63b59",
   "metadata": {},
   "outputs": [],
   "source": [
    "list_atrib = ['OverallQual', '1stFlrSF', 'Fireplaces', 'YearBuilt', 'YearRemodAdd', 'TotalBsmtSF',\n",
    "                'FullBath', 'GrLivArea', 'TotRmsAbvGrd', 'GarageYrBlt', 'GarageCars', 'GarageArea']"
   ]
  },
  {
   "cell_type": "code",
   "execution_count": 232,
   "id": "7920eb85",
   "metadata": {},
   "outputs": [],
   "source": [
    "teste2 = test[list_atrib]"
   ]
  },
  {
   "cell_type": "code",
   "execution_count": 233,
   "id": "7b38e9a5",
   "metadata": {},
   "outputs": [],
   "source": [
    "X = tabela4.drop('SalePrice', axis=1)\n",
    "y = tabela4['SalePrice']"
   ]
  },
  {
   "cell_type": "code",
   "execution_count": 234,
   "id": "8cf6b5ab",
   "metadata": {},
   "outputs": [],
   "source": [
    "reg_fa = RandomForestRegressor(criterion='absolute_error').fit(X,y)"
   ]
  },
  {
   "cell_type": "code",
   "execution_count": 235,
   "id": "c18f124a",
   "metadata": {},
   "outputs": [
    {
     "data": {
      "text/plain": [
       "array([121664.  , 143231.  , 173245.25, ..., 152124.87, 107528.5 ,\n",
       "       230734.9 ])"
      ]
     },
     "execution_count": 235,
     "metadata": {},
     "output_type": "execute_result"
    }
   ],
   "source": [
    "y_pred = reg_fa.predict(teste2)\n",
    "y_pred"
   ]
  },
  {
   "cell_type": "code",
   "execution_count": 239,
   "id": "f8c081b1",
   "metadata": {},
   "outputs": [
    {
     "data": {
      "text/html": [
       "<div>\n",
       "<style scoped>\n",
       "    .dataframe tbody tr th:only-of-type {\n",
       "        vertical-align: middle;\n",
       "    }\n",
       "\n",
       "    .dataframe tbody tr th {\n",
       "        vertical-align: top;\n",
       "    }\n",
       "\n",
       "    .dataframe thead th {\n",
       "        text-align: right;\n",
       "    }\n",
       "</style>\n",
       "<table border=\"1\" class=\"dataframe\">\n",
       "  <thead>\n",
       "    <tr style=\"text-align: right;\">\n",
       "      <th></th>\n",
       "      <th>SalePrice</th>\n",
       "    </tr>\n",
       "  </thead>\n",
       "  <tbody>\n",
       "    <tr>\n",
       "      <th>0</th>\n",
       "      <td>121664.00</td>\n",
       "    </tr>\n",
       "    <tr>\n",
       "      <th>1</th>\n",
       "      <td>143231.00</td>\n",
       "    </tr>\n",
       "    <tr>\n",
       "      <th>2</th>\n",
       "      <td>173245.25</td>\n",
       "    </tr>\n",
       "    <tr>\n",
       "      <th>3</th>\n",
       "      <td>180491.00</td>\n",
       "    </tr>\n",
       "    <tr>\n",
       "      <th>4</th>\n",
       "      <td>203575.12</td>\n",
       "    </tr>\n",
       "    <tr>\n",
       "      <th>...</th>\n",
       "      <td>...</td>\n",
       "    </tr>\n",
       "    <tr>\n",
       "      <th>1454</th>\n",
       "      <td>82350.93</td>\n",
       "    </tr>\n",
       "    <tr>\n",
       "      <th>1455</th>\n",
       "      <td>80999.00</td>\n",
       "    </tr>\n",
       "    <tr>\n",
       "      <th>1456</th>\n",
       "      <td>152124.87</td>\n",
       "    </tr>\n",
       "    <tr>\n",
       "      <th>1457</th>\n",
       "      <td>107528.50</td>\n",
       "    </tr>\n",
       "    <tr>\n",
       "      <th>1458</th>\n",
       "      <td>230734.90</td>\n",
       "    </tr>\n",
       "  </tbody>\n",
       "</table>\n",
       "<p>1459 rows × 1 columns</p>\n",
       "</div>"
      ],
      "text/plain": [
       "      SalePrice\n",
       "0     121664.00\n",
       "1     143231.00\n",
       "2     173245.25\n",
       "3     180491.00\n",
       "4     203575.12\n",
       "...         ...\n",
       "1454   82350.93\n",
       "1455   80999.00\n",
       "1456  152124.87\n",
       "1457  107528.50\n",
       "1458  230734.90\n",
       "\n",
       "[1459 rows x 1 columns]"
      ]
     },
     "execution_count": 239,
     "metadata": {},
     "output_type": "execute_result"
    }
   ],
   "source": [
    "previsoes = pd.DataFrame(y_pred, columns=['SalePrice'])\n",
    "previsoes"
   ]
  },
  {
   "cell_type": "code",
   "execution_count": 240,
   "id": "9e17879a",
   "metadata": {},
   "outputs": [
    {
     "data": {
      "text/html": [
       "<div>\n",
       "<style scoped>\n",
       "    .dataframe tbody tr th:only-of-type {\n",
       "        vertical-align: middle;\n",
       "    }\n",
       "\n",
       "    .dataframe tbody tr th {\n",
       "        vertical-align: top;\n",
       "    }\n",
       "\n",
       "    .dataframe thead th {\n",
       "        text-align: right;\n",
       "    }\n",
       "</style>\n",
       "<table border=\"1\" class=\"dataframe\">\n",
       "  <thead>\n",
       "    <tr style=\"text-align: right;\">\n",
       "      <th></th>\n",
       "      <th>Id</th>\n",
       "      <th>SalePrice</th>\n",
       "    </tr>\n",
       "  </thead>\n",
       "  <tbody>\n",
       "    <tr>\n",
       "      <th>0</th>\n",
       "      <td>1461</td>\n",
       "      <td>121664.0</td>\n",
       "    </tr>\n",
       "    <tr>\n",
       "      <th>1</th>\n",
       "      <td>1462</td>\n",
       "      <td>143231.0</td>\n",
       "    </tr>\n",
       "  </tbody>\n",
       "</table>\n",
       "</div>"
      ],
      "text/plain": [
       "     Id  SalePrice\n",
       "0  1461   121664.0\n",
       "1  1462   143231.0"
      ]
     },
     "execution_count": 240,
     "metadata": {},
     "output_type": "execute_result"
    }
   ],
   "source": [
    "resultado2 = pd.concat([id_test, previsoes], axis=1)\n",
    "resultado2.head(2)"
   ]
  },
  {
   "cell_type": "code",
   "execution_count": 241,
   "id": "fc0f4ca9",
   "metadata": {},
   "outputs": [],
   "source": [
    "resultado2.to_csv('resultado2.csv', index=False)"
   ]
  },
  {
   "cell_type": "markdown",
   "id": "05586de4",
   "metadata": {},
   "source": [
    "## 5ª Fase"
   ]
  },
  {
   "cell_type": "code",
   "execution_count": 242,
   "id": "e27fb1d4",
   "metadata": {},
   "outputs": [],
   "source": [
    "lista_atrib = ['SalePrice', 'OverallQual']"
   ]
  },
  {
   "cell_type": "code",
   "execution_count": 244,
   "id": "ffe19559",
   "metadata": {},
   "outputs": [],
   "source": [
    "tabela5 = tabela[lista_atrib]"
   ]
  },
  {
   "cell_type": "code",
   "execution_count": 256,
   "id": "4b8f3c86",
   "metadata": {},
   "outputs": [
    {
     "name": "stdout",
     "output_type": "stream",
     "text": [
      "32948.342899066316\n",
      "------------------------------------------------------------\n",
      "2483429086.6514373\n",
      "------------------------------------------------------------\n",
      "49834.01535749891\n",
      "------------------------------------------------------------\n",
      "0.644110673812851\n"
     ]
    }
   ],
   "source": [
    "regressao_linear(tabela5)"
   ]
  },
  {
   "cell_type": "code",
   "execution_count": 281,
   "id": "aa0fed07",
   "metadata": {},
   "outputs": [
    {
     "name": "stdout",
     "output_type": "stream",
     "text": [
      "30038.625039949104\n",
      "------------------------------------------------------------\n",
      "2023089884.8350267\n",
      "------------------------------------------------------------\n",
      "44978.77149094923\n",
      "------------------------------------------------------------\n",
      "0.710079865054335\n"
     ]
    }
   ],
   "source": [
    "arvore_decisao(tabela5, max_dep=6)"
   ]
  },
  {
   "cell_type": "code",
   "execution_count": 295,
   "id": "353ca0ac",
   "metadata": {},
   "outputs": [
    {
     "name": "stdout",
     "output_type": "stream",
     "text": [
      "30774.026255707762\n",
      "------------------------------------------------------------\n",
      "2085445977.701484\n",
      "------------------------------------------------------------\n",
      "45666.68345414942\n",
      "------------------------------------------------------------\n",
      "0.7011438869774134\n"
     ]
    }
   ],
   "source": [
    "knn(tabela5, viz=6)"
   ]
  },
  {
   "cell_type": "code",
   "execution_count": 310,
   "id": "ffc25e5e",
   "metadata": {},
   "outputs": [
    {
     "name": "stdout",
     "output_type": "stream",
     "text": [
      "30030.74225265283\n",
      "------------------------------------------------------------\n",
      "2021528360.548568\n",
      "------------------------------------------------------------\n",
      "44961.40968150985\n",
      "------------------------------------------------------------\n",
      "0.710303640248529\n"
     ]
    }
   ],
   "source": [
    "floresta_aleatoria(tabela5, max_dep=6)"
   ]
  }
 ],
 "metadata": {
  "kernelspec": {
   "display_name": "Python 3 (ipykernel)",
   "language": "python",
   "name": "python3"
  },
  "language_info": {
   "codemirror_mode": {
    "name": "ipython",
    "version": 3
   },
   "file_extension": ".py",
   "mimetype": "text/x-python",
   "name": "python",
   "nbconvert_exporter": "python",
   "pygments_lexer": "ipython3",
   "version": "3.9.7"
  }
 },
 "nbformat": 4,
 "nbformat_minor": 5
}
